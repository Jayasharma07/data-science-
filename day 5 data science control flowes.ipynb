{
 "cells": [
  {
   "cell_type": "markdown",
   "id": "9b8507da-df45-4c1f-85ac-8c8a7a0affa4",
   "metadata": {},
   "source": [
    "#  Control Flow\n",
    "   **Here, we are going to review and learn the most fundamentals of Python control flow: Decision making statement and loops.**\n"
   ]
  },
  {
   "cell_type": "markdown",
   "id": "369d141f-5e69-4c79-a3d7-8fd75e78c993",
   "metadata": {},
   "source": [
    "## Decision Making Statement\n",
    "   * It is kind of making decision during occurred situation of program execution and action can be taken according to specified conditions.\n",
    "   * Structure of decision making evaluate several expressions that provide True or False as a result.\n",
    "   * It is up to you to decide which type of action want to take and execute the statements based upon True and False.\n",
    "   \n",
    "**These are several topics of decision making which going to be discussed below:**\n",
    "   1. **if**\n",
    "   2. **if else** \n",
    "   3. **if elif else**\n",
    "   4. **Nested if**\n",
    "   5. **Single Statement Suites**"
   ]
  },
  {
   "cell_type": "markdown",
   "id": "beb5a30c-e711-4431-8b88-70bcb69a8d31",
   "metadata": {},
   "source": [
    "### If statement\n",
    "   - In python `if` statement is same as other languages.\n",
    "   - It is having a logical expression where data is getting compared and based upon comparison result a decision is made.\n",
    "   \n",
    "**Examples**"
   ]
  },
  {
   "cell_type": "code",
   "execution_count": 1,
   "id": "5efb9cc0-62e0-4048-b9c4-b81c8d6fc3f6",
   "metadata": {},
   "outputs": [
    {
     "name": "stdout",
     "output_type": "stream",
     "text": [
      "you are not eligible to vote\n"
     ]
    }
   ],
   "source": [
    "## if statements\n",
    "age=17\n",
    "if age <18:\n",
    "    print(\"you are not eligible to vote\")"
   ]
  },
  {
   "cell_type": "code",
   "execution_count": 2,
   "id": "f2fe92f1-5e0a-4419-a1d3-ee53d66165e0",
   "metadata": {},
   "outputs": [
    {
     "name": "stdin",
     "output_type": "stream",
     "text": [
      "enter your age 20\n"
     ]
    }
   ],
   "source": [
    "# input function\n",
    "age=int(input('enter your age'))"
   ]
  },
  {
   "cell_type": "code",
   "execution_count": 7,
   "id": "cc54a3bd-ae19-4435-9d18-deaca86e84e5",
   "metadata": {},
   "outputs": [
    {
     "name": "stdin",
     "output_type": "stream",
     "text": [
      "enter your age 56\n"
     ]
    },
    {
     "name": "stdout",
     "output_type": "stream",
     "text": [
      "Thankyou we wil let you know\n"
     ]
    }
   ],
   "source": [
    "age=int(input('enter your age'))\n",
    "if age >= 18 and age<=45:\n",
    "    print('You are young blood') \n",
    "else:\n",
    "    print('Thankyou we will let you know')"
   ]
  },
  {
   "cell_type": "code",
   "execution_count": 10,
   "id": "21600130-fd80-4d58-bb46-2e7414a895aa",
   "metadata": {},
   "outputs": [
    {
     "name": "stdin",
     "output_type": "stream",
     "text": [
      "enter the product price 5000\n"
     ]
    },
    {
     "name": "stdout",
     "output_type": "stream",
     "text": [
      "the price of the prosuct is 4000.0\n"
     ]
    }
   ],
   "source": [
    "price=int(input('enter the product price'))\n",
    "if price>1000 :\n",
    "    print('the price of the prosuct is {}'.format(price*0.8))\n",
    "else:\n",
    "    print('the price of the product is {}'.format(price*0.7))"
   ]
  },
  {
   "cell_type": "code",
   "execution_count": 1,
   "id": "3d714315-9999-4dab-9d8b-f3a4e23683c8",
   "metadata": {},
   "outputs": [
    {
     "name": "stdin",
     "output_type": "stream",
     "text": [
      "enter the product price 5000\n"
     ]
    },
    {
     "name": "stdout",
     "output_type": "stream",
     "text": [
      "the price of the prosuct is 4000.0\n"
     ]
    }
   ],
   "source": [
    "price=int(input('enter the product price'))\n",
    "if price>3000 :\n",
    "    print('the price of the prosuct is {}'.format(price*0.8))\n",
    "elif price >= 2000 and price<= 3000:\n",
    "    print(f\"the price of the product is {price*0.7}\")\n",
    "else:\n",
    "    print('the price of the product is {}'.format(price*0.6))\n",
    "    "
   ]
  },
  {
   "cell_type": "code",
   "execution_count": 4,
   "id": "18d77c00-8df9-482d-ae5d-3fba4a25a9c8",
   "metadata": {},
   "outputs": [
    {
     "name": "stdin",
     "output_type": "stream",
     "text": [
      "enter the product price 50\n"
     ]
    },
    {
     "name": "stdout",
     "output_type": "stream",
     "text": [
      "the price of the product is 30.0\n"
     ]
    }
   ],
   "source": [
    "price=int(input('enter the product price'))\n",
    "if price>3000 :\n",
    "    if price ==4000:\n",
    "        print ('congrulations you get a goa trip')\n",
    "    print('the price of the prosuct is {}'.format(price*0.8))\n",
    "elif price >= 2000 and price<= 3000:\n",
    "    if price ==2999:\n",
    "        print(\"congrulation you get an assitional gift\")\n",
    "    print(f\"the price of the product is {price*0.7}\")\n",
    "elif price >= 100 and price< 2000:\n",
    "    print(f\"the price of the product is {price*0.7}\")\n",
    "\n"
   ]
  },
  {
   "cell_type": "code",
   "execution_count": 5,
   "id": "2c153c61-93ed-4ff0-9082-5da3853bba1f",
   "metadata": {},
   "outputs": [
    {
     "name": "stdin",
     "output_type": "stream",
     "text": [
      "ehter the number  999\n"
     ]
    },
    {
     "name": "stdout",
     "output_type": "stream",
     "text": [
      "value is less than equal to 999\n"
     ]
    }
   ],
   "source": [
    "## single statement \n",
    "val=int(input('enter the number '))\n",
    "if (val<=999):print('value is less than equal to 999')"
   ]
  },
  {
   "cell_type": "code",
   "execution_count": null,
   "id": "3a7248c9-ee25-4632-88a3-3bd90b974095",
   "metadata": {},
   "outputs": [],
   "source": []
  }
 ],
 "metadata": {
  "kernelspec": {
   "display_name": "Python 3 (ipykernel)",
   "language": "python",
   "name": "python3"
  },
  "language_info": {
   "codemirror_mode": {
    "name": "ipython",
    "version": 3
   },
   "file_extension": ".py",
   "mimetype": "text/x-python",
   "name": "python",
   "nbconvert_exporter": "python",
   "pygments_lexer": "ipython3",
   "version": "3.10.8"
  }
 },
 "nbformat": 4,
 "nbformat_minor": 5
}
