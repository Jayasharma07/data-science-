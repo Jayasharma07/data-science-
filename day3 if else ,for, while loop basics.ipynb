{
 "cells": [
  {
   "cell_type": "markdown",
   "id": "3300707a-ddc0-419e-a5d5-4d8b967bfffd",
   "metadata": {},
   "source": [
    "# control flow"
   ]
  },
  {
   "cell_type": "markdown",
   "id": "36895e97-cf3c-4bc4-99b4-b42b37c50520",
   "metadata": {},
   "source": [
    "## decision making statement\n",
    "1. if\n",
    "2. if else\n",
    "3. if elif  else\n",
    "4. Nested if\n",
    "5. Single Statement Suites"
   ]
  },
  {
   "cell_type": "markdown",
   "id": "bf2cc0fe-21de-4869-9cb6-5814360680c2",
   "metadata": {
    "tags": []
   },
   "source": [
    "### 1. if statement"
   ]
  },
  {
   "cell_type": "markdown",
   "id": "d1c1b4f1-39b4-475a-b601-5c9bb0368d02",
   "metadata": {},
   "source": [
    "##### examples"
   ]
  },
  {
   "cell_type": "code",
   "execution_count": 1,
   "id": "cb0e2357-b6d7-4bb9-8c21-3e235d9426cc",
   "metadata": {},
   "outputs": [],
   "source": [
    "a=10\n",
    "if a>10:\n",
    "    print(\"this will execute once a is greater than 10\")\n",
    "    "
   ]
  },
  {
   "cell_type": "code",
   "execution_count": 2,
   "id": "b62e5de5-afad-4b0d-aa5c-adba7b411479",
   "metadata": {},
   "outputs": [
    {
     "data": {
      "text/plain": [
       "False"
      ]
     },
     "execution_count": 2,
     "metadata": {},
     "output_type": "execute_result"
    }
   ],
   "source": [
    "a>10"
   ]
  },
  {
   "cell_type": "code",
   "execution_count": 3,
   "id": "59f17b88-56fd-40b2-9e13-f694c32126b8",
   "metadata": {},
   "outputs": [
    {
     "name": "stdout",
     "output_type": "stream",
     "text": [
      "this will execute once if will not be able to perform\n"
     ]
    }
   ],
   "source": [
    "# if else\n",
    "a=10\n",
    "if a>10:\n",
    "    print(\"this will execute once a is greater than 10\")\n",
    "else:\n",
    "    print(\"this will execute once if will not be able to perform\")"
   ]
  },
  {
   "cell_type": "code",
   "execution_count": 6,
   "id": "06dbbc4c-ce52-4ab7-864e-0c1e253254b9",
   "metadata": {},
   "outputs": [
    {
     "name": "stdin",
     "output_type": "stream",
     "text": [
      " enter a value of a  12\n"
     ]
    },
    {
     "name": "stdout",
     "output_type": "stream",
     "text": [
      "this will execute once a is greater than 10\n"
     ]
    }
   ],
   "source": [
    "# if elif else\n",
    "a= int (input(\" enter a value of a \"))\n",
    "if a > 10:\n",
    "    print(\"this will execute once a is greater than 10\")\n",
    "elif a <= 10:\n",
    "    print(\"this is trying to check a condition for a where a could be 10 or lesser \")\n",
    "    \n",
    "else:\n",
    "    print(\"this will execute once if will not be able to perform\")\n"
   ]
  },
  {
   "cell_type": "code",
   "execution_count": 10,
   "id": "a3095648-f20c-43cd-8cc3-dbe8400f2887",
   "metadata": {},
   "outputs": [
    {
     "name": "stdout",
     "output_type": "stream",
     "text": [
      "1\n",
      "2\n",
      "3\n",
      "4\n",
      "5\n",
      "6\n",
      "7\n",
      "8\n",
      "9\n",
      "this will be executesd once ,while will complete it succesfully\n"
     ]
    }
   ],
   "source": [
    "# while statement\n",
    "n=10\n",
    "i=1\n",
    "\n",
    "while i < n:\n",
    "    print(i)\n",
    "    i = i+1\n",
    "else:\n",
    "    print(\"this will be executesd once ,while will complete it succesfully\")"
   ]
  },
  {
   "cell_type": "code",
   "execution_count": 22,
   "id": "e31e26ed-1b3c-4898-b7cd-218232587698",
   "metadata": {},
   "outputs": [
    {
     "name": "stdout",
     "output_type": "stream",
     "text": [
      "1\n",
      "2\n",
      "3\n",
      "4\n"
     ]
    }
   ],
   "source": [
    "# break\n",
    "n=10\n",
    "i=1\n",
    "\n",
    "while i < n:\n",
    "    print(i)\n",
    "    i = i+1\n",
    "    if i==5:\n",
    "       break\n",
    "        \n",
    "else:\n",
    "    print(\"this will be executesd once ,while will complete it succesfully\")"
   ]
  },
  {
   "cell_type": "code",
   "execution_count": 18,
   "id": "221f445b-6cee-44b6-b702-2f37b355b7d7",
   "metadata": {},
   "outputs": [
    {
     "name": "stdout",
     "output_type": "stream",
     "text": [
      "this will be executesd once ,while will complete it succesfully\n"
     ]
    }
   ],
   "source": [
    "# continue\n",
    "n=10\n",
    "i=1\n",
    "\n",
    "while i < n:\n",
    "  \n",
    "    i = i+1\n",
    "    if i==3:\n",
    "        continue\n",
    "        print(i)\n",
    "else:\n",
    "    print(\"this will be executesd once ,while will complete it succesfully\")"
   ]
  },
  {
   "cell_type": "code",
   "execution_count": 23,
   "id": "b58a5966-6848-47b1-b4a7-c2dbf324291c",
   "metadata": {},
   "outputs": [
    {
     "name": "stdout",
     "output_type": "stream",
     "text": [
      "k\n",
      "r\n",
      "i\n",
      "s\n",
      "h\n",
      "n\n",
      "a\n"
     ]
    }
   ],
   "source": [
    "# for loop\n",
    "k=\"krishna\"\n",
    "for i in k:\n",
    "    print(i)"
   ]
  },
  {
   "cell_type": "code",
   "execution_count": 25,
   "id": "3ccce1d9-a05e-4c04-8ea8-52a2449a8c0f",
   "metadata": {},
   "outputs": [],
   "source": [
    "l=[23,45,78, 'krishna',True,3+6j]"
   ]
  },
  {
   "cell_type": "code",
   "execution_count": 26,
   "id": "f3ae9654-aace-4390-90a1-2cb76e1b27b8",
   "metadata": {},
   "outputs": [
    {
     "name": "stdout",
     "output_type": "stream",
     "text": [
      "23\n",
      "45\n",
      "78\n",
      "krishna\n",
      "True\n",
      "(3+6j)\n",
      "this will bw executed once for loop will complete itself successfully\n"
     ]
    }
   ],
   "source": [
    "for j in l:\n",
    "    print(j)\n",
    "else :\n",
    "    print(\"this will bw executed once for loop will complete itself successfully\")"
   ]
  },
  {
   "cell_type": "code",
   "execution_count": 27,
   "id": "06d86bdf-c701-4632-b17b-a95bda730e05",
   "metadata": {},
   "outputs": [
    {
     "name": "stdout",
     "output_type": "stream",
     "text": [
      "23\n",
      "45\n",
      "78\n",
      "krishna\n",
      "True\n",
      "(3+6j)\n",
      "this will bw executed once for loop will complete itself successfully\n"
     ]
    }
   ],
   "source": [
    "\n",
    "l=(23,45,78, 'krishna',True,3+6j)\n",
    "for j in l:\n",
    "    print(j)\n",
    "else :\n",
    "    print(\"this will bw executed once for loop will complete itself successfully\")"
   ]
  },
  {
   "cell_type": "code",
   "execution_count": 28,
   "id": "c44ddce6-a167-45fe-9ebc-dc9763bafbf9",
   "metadata": {},
   "outputs": [
    {
     "data": {
      "text/plain": [
       "[0, 1, 2, 3, 4, 5, 6, 7, 8, 9]"
      ]
     },
     "execution_count": 28,
     "metadata": {},
     "output_type": "execute_result"
    }
   ],
   "source": [
    "list(range(10))# range"
   ]
  },
  {
   "cell_type": "code",
   "execution_count": null,
   "id": "d7b0da5d-fc58-449e-a265-9ffeb36763ce",
   "metadata": {},
   "outputs": [],
   "source": []
  }
 ],
 "metadata": {
  "kernelspec": {
   "display_name": "Python 3 (ipykernel)",
   "language": "python",
   "name": "python3"
  },
  "language_info": {
   "codemirror_mode": {
    "name": "ipython",
    "version": 3
   },
   "file_extension": ".py",
   "mimetype": "text/x-python",
   "name": "python",
   "nbconvert_exporter": "python",
   "pygments_lexer": "ipython3",
   "version": "3.10.8"
  }
 },
 "nbformat": 4,
 "nbformat_minor": 5
}
