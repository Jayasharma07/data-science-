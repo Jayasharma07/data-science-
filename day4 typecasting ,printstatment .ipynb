{
 "cells": [
  {
   "cell_type": "code",
   "execution_count": 1,
   "id": "1c0484ed-f240-49c3-93a0-6f11d13aa4a6",
   "metadata": {},
   "outputs": [],
   "source": [
    "# dynamic typing(don't have to define data type)\n",
    "a=10"
   ]
  },
  {
   "cell_type": "code",
   "execution_count": 2,
   "id": "df944bd8-acb7-4fc6-a888-4ce226e23d9e",
   "metadata": {},
   "outputs": [],
   "source": [
    "# datatypes\n",
    "a='c'"
   ]
  },
  {
   "cell_type": "code",
   "execution_count": 3,
   "id": "942d1721-ad39-4f37-854e-2ddabc3afa37",
   "metadata": {},
   "outputs": [
    {
     "data": {
      "text/plain": [
       "str"
      ]
     },
     "execution_count": 3,
     "metadata": {},
     "output_type": "execute_result"
    }
   ],
   "source": [
    "type(a)"
   ]
  },
  {
   "cell_type": "code",
   "execution_count": 4,
   "id": "807e6130-5251-4568-90e7-896d1e65797d",
   "metadata": {},
   "outputs": [],
   "source": [
    "a=67"
   ]
  },
  {
   "cell_type": "code",
   "execution_count": 5,
   "id": "41a4f2a2-b34b-4dd1-b2b6-0ac7297b3273",
   "metadata": {},
   "outputs": [
    {
     "data": {
      "text/plain": [
       "int"
      ]
     },
     "execution_count": 5,
     "metadata": {},
     "output_type": "execute_result"
    }
   ],
   "source": [
    "type(a)"
   ]
  },
  {
   "cell_type": "code",
   "execution_count": 7,
   "id": "1af36152-284a-4740-9389-d524e9c8ff76",
   "metadata": {},
   "outputs": [],
   "source": [
    "a=0.9"
   ]
  },
  {
   "cell_type": "code",
   "execution_count": 8,
   "id": "4f594ac0-8877-498a-a8b5-f4618fa9c7ba",
   "metadata": {},
   "outputs": [
    {
     "data": {
      "text/plain": [
       "float"
      ]
     },
     "execution_count": 8,
     "metadata": {},
     "output_type": "execute_result"
    }
   ],
   "source": [
    "type(a)"
   ]
  },
  {
   "cell_type": "code",
   "execution_count": 11,
   "id": "4d786ce1-bdf1-4196-8685-8e4c919b06d6",
   "metadata": {},
   "outputs": [
    {
     "data": {
      "text/plain": [
       "bool"
      ]
     },
     "execution_count": 11,
     "metadata": {},
     "output_type": "execute_result"
    }
   ],
   "source": [
    "type(True)"
   ]
  },
  {
   "cell_type": "code",
   "execution_count": 13,
   "id": "f61bfb01-ce8e-4fad-9154-76c2e2ba6c79",
   "metadata": {},
   "outputs": [],
   "source": [
    "a=3+7j"
   ]
  },
  {
   "cell_type": "code",
   "execution_count": 14,
   "id": "2316b0f7-d392-4845-80e5-b1012cd34e3c",
   "metadata": {},
   "outputs": [
    {
     "data": {
      "text/plain": [
       "complex"
      ]
     },
     "execution_count": 14,
     "metadata": {},
     "output_type": "execute_result"
    }
   ],
   "source": [
    "type(a)"
   ]
  },
  {
   "cell_type": "code",
   "execution_count": 15,
   "id": "84e9043b-d616-440e-a6dd-4ed5b0b7244d",
   "metadata": {},
   "outputs": [
    {
     "data": {
      "text/plain": [
       "2345"
      ]
     },
     "execution_count": 15,
     "metadata": {},
     "output_type": "execute_result"
    }
   ],
   "source": [
    "#  typecasting\n",
    "int('2345')"
   ]
  },
  {
   "cell_type": "code",
   "execution_count": 16,
   "id": "0a114853-dbea-477e-8366-e8301ec00435",
   "metadata": {},
   "outputs": [
    {
     "ename": "ValueError",
     "evalue": "invalid literal for int() with base 10: 'abcd'",
     "output_type": "error",
     "traceback": [
      "\u001b[0;31m---------------------------------------------------------------------------\u001b[0m",
      "\u001b[0;31mValueError\u001b[0m                                Traceback (most recent call last)",
      "Cell \u001b[0;32mIn[16], line 1\u001b[0m\n\u001b[0;32m----> 1\u001b[0m \u001b[38;5;28;43mint\u001b[39;49m\u001b[43m(\u001b[49m\u001b[38;5;124;43m'\u001b[39;49m\u001b[38;5;124;43mabcd\u001b[39;49m\u001b[38;5;124;43m'\u001b[39;49m\u001b[43m)\u001b[49m\n",
      "\u001b[0;31mValueError\u001b[0m: invalid literal for int() with base 10: 'abcd'"
     ]
    }
   ],
   "source": [
    "int('abcd')"
   ]
  },
  {
   "cell_type": "code",
   "execution_count": 17,
   "id": "92f41356-262d-46b4-ba89-93cbba5406c1",
   "metadata": {},
   "outputs": [
    {
     "data": {
      "text/plain": [
       "4"
      ]
     },
     "execution_count": 17,
     "metadata": {},
     "output_type": "execute_result"
    }
   ],
   "source": [
    "int(4.5)"
   ]
  },
  {
   "cell_type": "code",
   "execution_count": 19,
   "id": "08a11f31-a45d-43e6-a607-bc0e74d79434",
   "metadata": {},
   "outputs": [
    {
     "data": {
      "text/plain": [
       "5.0"
      ]
     },
     "execution_count": 19,
     "metadata": {},
     "output_type": "execute_result"
    }
   ],
   "source": [
    "float(5)"
   ]
  },
  {
   "cell_type": "code",
   "execution_count": 20,
   "id": "02454de7-1c03-426b-a69c-ba75e09ceae3",
   "metadata": {},
   "outputs": [
    {
     "name": "stdout",
     "output_type": "stream",
     "text": [
      "hello world\n"
     ]
    }
   ],
   "source": [
    "# print statement\n",
    "print(\"hello world\")"
   ]
  },
  {
   "cell_type": "code",
   "execution_count": 21,
   "id": "910fd54f-f208-4623-a788-993304801b78",
   "metadata": {},
   "outputs": [
    {
     "name": "stdout",
     "output_type": "stream",
     "text": [
      "1234\n"
     ]
    }
   ],
   "source": [
    "print(1234)"
   ]
  },
  {
   "cell_type": "code",
   "execution_count": 24,
   "id": "fb119055-c9d3-47be-8c8d-4966240443a5",
   "metadata": {},
   "outputs": [
    {
     "name": "stdout",
     "output_type": "stream",
     "text": [
      "My age is: 56\n"
     ]
    }
   ],
   "source": [
    "age=56\n",
    "print(\"My age is:\",age)"
   ]
  },
  {
   "cell_type": "code",
   "execution_count": 25,
   "id": "f878ad27-8d2b-4565-87e2-85126e2f9cc1",
   "metadata": {},
   "outputs": [
    {
     "name": "stdout",
     "output_type": "stream",
     "text": [
      "My age is :56\n"
     ]
    }
   ],
   "source": [
    "# f string\n",
    "print(f\"My age is :{age}\")"
   ]
  },
  {
   "cell_type": "code",
   "execution_count": 26,
   "id": "a88716c4-8878-40f7-91b1-66024d98fd73",
   "metadata": {},
   "outputs": [
    {
     "name": "stdout",
     "output_type": "stream",
     "text": [
      "My name is krishna and age is 20\n"
     ]
    }
   ],
   "source": [
    "# format()\n",
    "name='krishna'\n",
    "age=20\n",
    "print(\"My name is {} and age is {}\".format(name,age))"
   ]
  },
  {
   "cell_type": "code",
   "execution_count": 27,
   "id": "c266fdae-58dd-4a78-b540-0a90871dd88c",
   "metadata": {},
   "outputs": [
    {
     "name": "stdout",
     "output_type": "stream",
     "text": [
      "My name is 20 and age is krishna\n"
     ]
    }
   ],
   "source": [
    "print(\"My name is {} and age is {}\".format(age,name))"
   ]
  },
  {
   "cell_type": "code",
   "execution_count": 28,
   "id": "86e42632-d164-44ea-81bc-42ca1c3aafc6",
   "metadata": {},
   "outputs": [
    {
     "name": "stdout",
     "output_type": "stream",
     "text": [
      "My name is krishna and age is 20\n"
     ]
    }
   ],
   "source": [
    "# placeholder\n",
    "print(\"My name is {firstname} and age is {firstage}\".format(firstage=age,firstname=name))"
   ]
  },
  {
   "cell_type": "code",
   "execution_count": 31,
   "id": "3d600ca2-d774-4f0c-b849-18ed9387e0a1",
   "metadata": {},
   "outputs": [
    {
     "name": "stdout",
     "output_type": "stream",
     "text": [
      "My name is jaya, age is 21 and i have completed my degree in : bsc\n"
     ]
    }
   ],
   "source": [
    "name= 'jaya'\n",
    "age=21\n",
    "degree='bsc'\n",
    "print('My name is {firstname}, age is {firstage} and i have completed my degree in : {firstdegree}'. format(firstdegree=degree,firstname=name,firstage=age))"
   ]
  },
  {
   "cell_type": "code",
   "execution_count": null,
   "id": "da133b34-29b2-49f7-b88b-a4bc2b098d2a",
   "metadata": {},
   "outputs": [],
   "source": [
    "\n"
   ]
  }
 ],
 "metadata": {
  "kernelspec": {
   "display_name": "Python 3 (ipykernel)",
   "language": "python",
   "name": "python3"
  },
  "language_info": {
   "codemirror_mode": {
    "name": "ipython",
    "version": 3
   },
   "file_extension": ".py",
   "mimetype": "text/x-python",
   "name": "python",
   "nbconvert_exporter": "python",
   "pygments_lexer": "ipython3",
   "version": "3.10.8"
  }
 },
 "nbformat": 4,
 "nbformat_minor": 5
}
