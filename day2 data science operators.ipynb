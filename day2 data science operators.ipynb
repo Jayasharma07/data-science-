{
 "cells": [
  {
   "cell_type": "markdown",
   "id": "fc77ef67-6796-4ac4-8152-342af67d9e23",
   "metadata": {},
   "source": [
    "# operators"
   ]
  },
  {
   "cell_type": "markdown",
   "id": "9ab314b0-5bf9-4222-a7f1-880ef87727d8",
   "metadata": {},
   "source": [
    "# 1) arthematic operator\n",
    "          + , - , / , * , % , // , ** \n"
   ]
  },
  {
   "cell_type": "code",
   "execution_count": 1,
   "id": "80d46bfb-d43a-4bf3-8ac2-b3efcd1e2b6b",
   "metadata": {},
   "outputs": [
    {
     "data": {
      "text/plain": [
       "20"
      ]
     },
     "execution_count": 1,
     "metadata": {},
     "output_type": "execute_result"
    }
   ],
   "source": [
    "10 + 10"
   ]
  },
  {
   "cell_type": "code",
   "execution_count": 2,
   "id": "0b62c0fe-45ca-4ff3-b49f-ac87cbb6d4fd",
   "metadata": {},
   "outputs": [
    {
     "data": {
      "text/plain": [
       "10"
      ]
     },
     "execution_count": 2,
     "metadata": {},
     "output_type": "execute_result"
    }
   ],
   "source": [
    "20-10"
   ]
  },
  {
   "cell_type": "code",
   "execution_count": 3,
   "id": "1f82c910-165d-4647-b5d0-dc5449ff4e26",
   "metadata": {},
   "outputs": [
    {
     "data": {
      "text/plain": [
       "210"
      ]
     },
     "execution_count": 3,
     "metadata": {},
     "output_type": "execute_result"
    }
   ],
   "source": [
    "30*7"
   ]
  },
  {
   "cell_type": "code",
   "execution_count": 4,
   "id": "062bfc5c-451d-4def-8532-4143126e0cf3",
   "metadata": {},
   "outputs": [
    {
     "data": {
      "text/plain": [
       "5.0"
      ]
     },
     "execution_count": 4,
     "metadata": {},
     "output_type": "execute_result"
    }
   ],
   "source": [
    "45/9"
   ]
  },
  {
   "cell_type": "code",
   "execution_count": 5,
   "id": "97d919ec-a646-4a69-bf58-8ed4fe0541d2",
   "metadata": {},
   "outputs": [
    {
     "data": {
      "text/plain": [
       "1"
      ]
     },
     "execution_count": 5,
     "metadata": {},
     "output_type": "execute_result"
    }
   ],
   "source": [
    "4%3 # gives remender"
   ]
  },
  {
   "cell_type": "code",
   "execution_count": 7,
   "id": "5f4d3812-d3df-4740-a3a4-22e2bafcdb80",
   "metadata": {},
   "outputs": [
    {
     "data": {
      "text/plain": [
       "1024"
      ]
     },
     "execution_count": 7,
     "metadata": {},
     "output_type": "execute_result"
    }
   ],
   "source": [
    "4**5 #sruare(**)"
   ]
  },
  {
   "cell_type": "code",
   "execution_count": 10,
   "id": "7290801e-6c8a-4b35-9c7a-7cc8ed79ef76",
   "metadata": {},
   "outputs": [
    {
     "data": {
      "text/plain": [
       "15"
      ]
     },
     "execution_count": 10,
     "metadata": {},
     "output_type": "execute_result"
    }
   ],
   "source": [
    "76//5 # gives division flore value"
   ]
  },
  {
   "cell_type": "markdown",
   "id": "59a4ac63-1e00-4b37-b061-1f1a2320a76e",
   "metadata": {},
   "source": [
    "# 2) comparesion"
   ]
  },
  {
   "cell_type": "markdown",
   "id": "8196bd1b-3475-4da8-8e58-a3745509dccc",
   "metadata": {},
   "source": [
    "           > , < ,==, != ,>=, <="
   ]
  },
  {
   "cell_type": "code",
   "execution_count": 11,
   "id": "536b1e8b-a113-4c81-a309-f3f67f5a5b8a",
   "metadata": {},
   "outputs": [
    {
     "data": {
      "text/plain": [
       "False"
      ]
     },
     "execution_count": 11,
     "metadata": {},
     "output_type": "execute_result"
    }
   ],
   "source": [
    "1>2"
   ]
  },
  {
   "cell_type": "code",
   "execution_count": 12,
   "id": "92dfa76f-866d-4eb5-a971-41ea36367e44",
   "metadata": {},
   "outputs": [
    {
     "data": {
      "text/plain": [
       "True"
      ]
     },
     "execution_count": 12,
     "metadata": {},
     "output_type": "execute_result"
    }
   ],
   "source": [
    "23>8"
   ]
  },
  {
   "cell_type": "code",
   "execution_count": 13,
   "id": "f98c05da-7c5a-4bc4-9fa3-56d173128d71",
   "metadata": {},
   "outputs": [
    {
     "data": {
      "text/plain": [
       "False"
      ]
     },
     "execution_count": 13,
     "metadata": {},
     "output_type": "execute_result"
    }
   ],
   "source": [
    "4==5"
   ]
  },
  {
   "cell_type": "code",
   "execution_count": 14,
   "id": "19f3e99b-65e9-4297-bdfd-85d298f027da",
   "metadata": {},
   "outputs": [
    {
     "data": {
      "text/plain": [
       "True"
      ]
     },
     "execution_count": 14,
     "metadata": {},
     "output_type": "execute_result"
    }
   ],
   "source": [
    "2!= 3"
   ]
  },
  {
   "cell_type": "code",
   "execution_count": 15,
   "id": "f0702cff-b823-454e-86fb-5dfea13a6249",
   "metadata": {},
   "outputs": [
    {
     "data": {
      "text/plain": [
       "False"
      ]
     },
     "execution_count": 15,
     "metadata": {},
     "output_type": "execute_result"
    }
   ],
   "source": [
    "3>=4"
   ]
  },
  {
   "cell_type": "code",
   "execution_count": 16,
   "id": "1cf3205b-2c2d-48dc-a333-856dc1084013",
   "metadata": {},
   "outputs": [
    {
     "data": {
      "text/plain": [
       "True"
      ]
     },
     "execution_count": 16,
     "metadata": {},
     "output_type": "execute_result"
    }
   ],
   "source": [
    "3>=3"
   ]
  },
  {
   "cell_type": "code",
   "execution_count": 17,
   "id": "d832efaa-d525-496a-867c-9311743c02e6",
   "metadata": {},
   "outputs": [
    {
     "data": {
      "text/plain": [
       "False"
      ]
     },
     "execution_count": 17,
     "metadata": {},
     "output_type": "execute_result"
    }
   ],
   "source": [
    "6<=5"
   ]
  },
  {
   "cell_type": "markdown",
   "id": "c0e777e4-5a9b-49a8-afde-3cc03f0a6ee1",
   "metadata": {},
   "source": [
    "# 3)logical operator"
   ]
  },
  {
   "cell_type": "markdown",
   "id": "f8dc816b-1d29-47d4-b924-bf1548a4de56",
   "metadata": {},
   "source": [
    "  and , or , not "
   ]
  },
  {
   "cell_type": "markdown",
   "id": "75a7ebc1-6469-4528-ad05-2c9b37994c07",
   "metadata": {},
   "source": [
    " ####  and         or\n",
    "        T ---TT--- T\n",
    "        F ---TF--- T\n",
    "        F ---FT--- T\n",
    "        F ---FF--- F\n",
    "\n",
    "    not true = false \n",
    "    not false = true"
   ]
  },
  {
   "cell_type": "code",
   "execution_count": 18,
   "id": "37cff442-e7a8-44ca-84dd-66bd9df12ce8",
   "metadata": {},
   "outputs": [
    {
     "data": {
      "text/plain": [
       "False"
      ]
     },
     "execution_count": 18,
     "metadata": {},
     "output_type": "execute_result"
    }
   ],
   "source": [
    "True and False"
   ]
  },
  {
   "cell_type": "code",
   "execution_count": 19,
   "id": "452903c3-cef9-40ad-8027-408c49c6391e",
   "metadata": {},
   "outputs": [
    {
     "data": {
      "text/plain": [
       "True"
      ]
     },
     "execution_count": 19,
     "metadata": {},
     "output_type": "execute_result"
    }
   ],
   "source": [
    "True and True"
   ]
  },
  {
   "cell_type": "code",
   "execution_count": 20,
   "id": "011ab562-333a-45f0-98f8-842790cf0f8c",
   "metadata": {},
   "outputs": [
    {
     "data": {
      "text/plain": [
       "1"
      ]
     },
     "execution_count": 20,
     "metadata": {},
     "output_type": "execute_result"
    }
   ],
   "source": [
    "1 and 1"
   ]
  },
  {
   "cell_type": "code",
   "execution_count": 21,
   "id": "07ad22be-ac48-4ebe-bff2-790028673f6b",
   "metadata": {},
   "outputs": [
    {
     "data": {
      "text/plain": [
       "False"
      ]
     },
     "execution_count": 21,
     "metadata": {},
     "output_type": "execute_result"
    }
   ],
   "source": [
    "True and False"
   ]
  },
  {
   "cell_type": "code",
   "execution_count": 22,
   "id": "c7b139ad-8b40-4b1b-8492-652886b08e62",
   "metadata": {},
   "outputs": [
    {
     "data": {
      "text/plain": [
       "False"
      ]
     },
     "execution_count": 22,
     "metadata": {},
     "output_type": "execute_result"
    }
   ],
   "source": [
    " not True"
   ]
  },
  {
   "cell_type": "markdown",
   "id": "87e77fdd-304a-4a0f-bfd3-25f03c6e9829",
   "metadata": {},
   "source": [
    " # 4)bitwise operator\n",
    " #### (convert it into bit and try to perform operation)"
   ]
  },
  {
   "cell_type": "markdown",
   "id": "e716b73a-7329-400e-af38-0db7446db904",
   "metadata": {},
   "source": [
    " ###   1) Bitwise and"
   ]
  },
  {
   "cell_type": "code",
   "execution_count": 5,
   "id": "61a5e8c4-724f-443d-80e0-0a2e3c8d9785",
   "metadata": {},
   "outputs": [
    {
     "data": {
      "text/plain": [
       "10"
      ]
     },
     "execution_count": 5,
     "metadata": {},
     "output_type": "execute_result"
    }
   ],
   "source": [
    "10&10"
   ]
  },
  {
   "cell_type": "code",
   "execution_count": 8,
   "id": "f3e82b9c-b45e-422a-a5c5-b84dcaaac125",
   "metadata": {},
   "outputs": [
    {
     "data": {
      "text/plain": [
       "'0b1010'"
      ]
     },
     "execution_count": 8,
     "metadata": {},
     "output_type": "execute_result"
    }
   ],
   "source": [
    "bin(10)"
   ]
  },
  {
   "cell_type": "markdown",
   "id": "8ab0a3a2-f131-47e5-b8b8-7a937f6a99f2",
   "metadata": {},
   "source": [
    "     &/and\n",
    "        1  1 ---1\n",
    "        0  0 ---0  --------now decimal equivalent of 1010 is 10\n",
    "        1  1 ---1           so the output is 10\n",
    "        0  0 ---0"
   ]
  },
  {
   "cell_type": "code",
   "execution_count": 6,
   "id": "983a6a84-ea47-4c88-8237-b6a979489e8e",
   "metadata": {},
   "outputs": [
    {
     "data": {
      "text/plain": [
       "3"
      ]
     },
     "execution_count": 6,
     "metadata": {},
     "output_type": "execute_result"
    }
   ],
   "source": [
    "23&3"
   ]
  },
  {
   "cell_type": "code",
   "execution_count": 7,
   "id": "88fd8578-b48e-44da-9d73-fd744fbf06b5",
   "metadata": {},
   "outputs": [
    {
     "data": {
      "text/plain": [
       "'0b10111'"
      ]
     },
     "execution_count": 7,
     "metadata": {},
     "output_type": "execute_result"
    }
   ],
   "source": [
    "bin(23)"
   ]
  },
  {
   "cell_type": "code",
   "execution_count": 9,
   "id": "f3f4e37c-5eaf-4a31-99b3-4bbc6636b04d",
   "metadata": {},
   "outputs": [
    {
     "data": {
      "text/plain": [
       "'0b11'"
      ]
     },
     "execution_count": 9,
     "metadata": {},
     "output_type": "execute_result"
    }
   ],
   "source": [
    "bin(3)"
   ]
  },
  {
   "cell_type": "markdown",
   "id": "9eb57352-3149-40a7-8d48-01bcbecfb3ae",
   "metadata": {},
   "source": [
    "      1  0 ---0\n",
    "      0  0 ---0\n",
    "      1  0 --- 0  -------- now the decimal equivalent of 00011 is 3\n",
    "      1  1 ---1               so the output is 3\n",
    "      1  1 ---1 "
   ]
  },
  {
   "cell_type": "code",
   "execution_count": 10,
   "id": "1cde1cba-56ee-434a-b002-5efb76b84eb8",
   "metadata": {},
   "outputs": [
    {
     "data": {
      "text/plain": [
       "0"
      ]
     },
     "execution_count": 10,
     "metadata": {},
     "output_type": "execute_result"
    }
   ],
   "source": [
    "24 & 5"
   ]
  },
  {
   "cell_type": "markdown",
   "id": "3bf5c39a-daa6-464b-934e-b759cbb1b5fc",
   "metadata": {},
   "source": [
    "    1  0---0\n",
    "    1  0---0\n",
    "    0  1---0\n",
    "    0  0---0\n",
    "    0  1---0"
   ]
  },
  {
   "cell_type": "markdown",
   "id": "61aefdc2-d495-415d-80ae-798007c98ffd",
   "metadata": {},
   "source": [
    "###  2) bitwise or"
   ]
  },
  {
   "cell_type": "code",
   "execution_count": 11,
   "id": "239b6d5e-7631-4683-8935-051145d2f914",
   "metadata": {},
   "outputs": [
    {
     "data": {
      "text/plain": [
       "55"
      ]
     },
     "execution_count": 11,
     "metadata": {},
     "output_type": "execute_result"
    }
   ],
   "source": [
    "34 | 23"
   ]
  },
  {
   "cell_type": "code",
   "execution_count": 12,
   "id": "ebd62faf-89af-40d1-8b0a-ac5ecd15ca5a",
   "metadata": {},
   "outputs": [
    {
     "data": {
      "text/plain": [
       "'0b100010'"
      ]
     },
     "execution_count": 12,
     "metadata": {},
     "output_type": "execute_result"
    }
   ],
   "source": [
    "bin(34)"
   ]
  },
  {
   "cell_type": "code",
   "execution_count": 13,
   "id": "250b9d28-87d6-4ed7-ba3b-7ab21d1ccfeb",
   "metadata": {},
   "outputs": [
    {
     "data": {
      "text/plain": [
       "'0b10111'"
      ]
     },
     "execution_count": 13,
     "metadata": {},
     "output_type": "execute_result"
    }
   ],
   "source": [
    "bin(23)"
   ]
  },
  {
   "cell_type": "code",
   "execution_count": 14,
   "id": "058180b2-d3c6-4d4d-a86d-5d829514c127",
   "metadata": {},
   "outputs": [
    {
     "data": {
      "text/plain": [
       "'0b110111'"
      ]
     },
     "execution_count": 14,
     "metadata": {},
     "output_type": "execute_result"
    }
   ],
   "source": [
    "bin(55)"
   ]
  },
  {
   "cell_type": "markdown",
   "id": "fa7655fe-9b52-4a3e-96b1-b8cc76bec865",
   "metadata": {},
   "source": [
    "    1  0---1\n",
    "    0  1---1\n",
    "    0  0---0    so the result is decimal no. of 110111 binary \n",
    "    0  1---1             number\n",
    "    1  1---1\n",
    "    0  1---1"
   ]
  },
  {
   "cell_type": "markdown",
   "id": "afa54081-d84c-4c05-9190-befa7ddad64e",
   "metadata": {},
   "source": [
    "###  3) bitwise complement or negate\n"
   ]
  },
  {
   "cell_type": "code",
   "execution_count": 15,
   "id": "20766f50-2a49-4585-8f51-4e0f470e79bb",
   "metadata": {},
   "outputs": [
    {
     "data": {
      "text/plain": [
       "-35"
      ]
     },
     "execution_count": 15,
     "metadata": {},
     "output_type": "execute_result"
    }
   ],
   "source": [
    "~34"
   ]
  },
  {
   "cell_type": "code",
   "execution_count": 16,
   "id": "282c70d7-bce9-451c-b009-cffef2055a01",
   "metadata": {},
   "outputs": [
    {
     "data": {
      "text/plain": [
       "'0b100010'"
      ]
     },
     "execution_count": 16,
     "metadata": {},
     "output_type": "execute_result"
    }
   ],
   "source": [
    " bin(34)"
   ]
  },
  {
   "cell_type": "markdown",
   "id": "7e40f3ad-15ea-498d-9f4d-a3c40e57c0d7",
   "metadata": {},
   "source": [
    " process  \n",
    "    -(100010+1)"
   ]
  },
  {
   "cell_type": "markdown",
   "id": "1e2950db-03b5-4e33-93d6-4cc9c1e4d3af",
   "metadata": {},
   "source": [
    "### 4) right shift"
   ]
  },
  {
   "cell_type": "code",
   "execution_count": 17,
   "id": "ea41c334-42ec-490a-805f-b8ee10545ff1",
   "metadata": {},
   "outputs": [
    {
     "data": {
      "text/plain": [
       "7"
      ]
     },
     "execution_count": 17,
     "metadata": {},
     "output_type": "execute_result"
    }
   ],
   "source": [
    "30>>2"
   ]
  },
  {
   "cell_type": "code",
   "execution_count": 18,
   "id": "a837951b-42cf-489f-94fc-b3e81b84e4b6",
   "metadata": {},
   "outputs": [
    {
     "data": {
      "text/plain": [
       "'0b11110'"
      ]
     },
     "execution_count": 18,
     "metadata": {},
     "output_type": "execute_result"
    }
   ],
   "source": [
    "bin(30)"
   ]
  },
  {
   "cell_type": "markdown",
   "id": "928bb5d9-c6f0-4530-9a0e-5fa87d6f6645",
   "metadata": {},
   "source": [
    "    11110 when we shift right by 2 then last 10 is removed and output is tha decimal no. of 111 binary no."
   ]
  },
  {
   "cell_type": "code",
   "execution_count": 42,
   "id": "3aa6cc90-dd40-49ba-8574-ee9d166f2e69",
   "metadata": {},
   "outputs": [
    {
     "data": {
      "text/plain": [
       "'0b111'"
      ]
     },
     "execution_count": 42,
     "metadata": {},
     "output_type": "execute_result"
    }
   ],
   "source": [
    "bin (7)"
   ]
  },
  {
   "cell_type": "markdown",
   "id": "443f479c-e139-4ee5-acff-08641815c246",
   "metadata": {},
   "source": [
    "### 5) left shift "
   ]
  },
  {
   "cell_type": "code",
   "execution_count": 44,
   "id": "9f1e4234-a696-4dd3-802a-88172b5424b7",
   "metadata": {},
   "outputs": [
    {
     "data": {
      "text/plain": [
       "280"
      ]
     },
     "execution_count": 44,
     "metadata": {},
     "output_type": "execute_result"
    }
   ],
   "source": [
    "35<<3"
   ]
  },
  {
   "cell_type": "code",
   "execution_count": 45,
   "id": "f68d078d-0d89-46e2-87b4-35bb165f22c5",
   "metadata": {},
   "outputs": [
    {
     "data": {
      "text/plain": [
       "'0b100011'"
      ]
     },
     "execution_count": 45,
     "metadata": {},
     "output_type": "execute_result"
    }
   ],
   "source": [
    "bin(35)"
   ]
  },
  {
   "cell_type": "markdown",
   "id": "19d3028e-4d83-4fb5-8326-5459cd1b8684",
   "metadata": {},
   "source": [
    " 100011 when we shift left side by 3 then we have to\n",
    "    add 3 zeros in right side . the output is decimal no. of 100011000 \n",
    "    binary no."
   ]
  },
  {
   "cell_type": "code",
   "execution_count": null,
   "id": "6bcb873d-fcf3-4448-9e76-78caeed758a1",
   "metadata": {},
   "outputs": [],
   "source": [
    "bin(280)"
   ]
  },
  {
   "cell_type": "markdown",
   "id": "185d6b49-da42-41b6-a924-7fb9e0179c7d",
   "metadata": {},
   "source": [
    " #  5) assignment operator"
   ]
  },
  {
   "cell_type": "markdown",
   "id": "0c322c61-0f5a-444a-abab-d179b38eedcc",
   "metadata": {},
   "source": [
    "   ##### = , += , -="
   ]
  },
  {
   "cell_type": "code",
   "execution_count": 19,
   "id": "94946e2e-39a0-4a5f-8057-16b508e9f1ef",
   "metadata": {},
   "outputs": [],
   "source": [
    "a=10"
   ]
  },
  {
   "cell_type": "code",
   "execution_count": 20,
   "id": "ac0b841d-f273-4d56-916a-132b2ae72a40",
   "metadata": {},
   "outputs": [],
   "source": [
    "## a = a+2 and  a += 2 is same"
   ]
  },
  {
   "cell_type": "code",
   "execution_count": 21,
   "id": "dfa9e9a7-bf4a-4a0b-b7d6-aec2f6f3b669",
   "metadata": {},
   "outputs": [
    {
     "name": "stdout",
     "output_type": "stream",
     "text": [
      "12\n"
     ]
    }
   ],
   "source": [
    "a = a+2 \n",
    "print (a)"
   ]
  },
  {
   "cell_type": "code",
   "execution_count": 22,
   "id": "9e6276fc-a867-4f70-a438-882f94d5a6c2",
   "metadata": {},
   "outputs": [
    {
     "name": "stdout",
     "output_type": "stream",
     "text": [
      "14\n"
     ]
    }
   ],
   "source": [
    "a += 2\n",
    "print(a)"
   ]
  },
  {
   "cell_type": "markdown",
   "id": "d368a6b7-7a88-44c7-b5c6-c2dc3d9d3597",
   "metadata": {},
   "source": [
    "# equality operator"
   ]
  },
  {
   "cell_type": "markdown",
   "id": "3f7400f2-b9a2-4363-95ec-354f26bf8d2e",
   "metadata": {},
   "source": [
    "   'is' = a and b returns true if variable pounts the same objects"
   ]
  },
  {
   "cell_type": "markdown",
   "id": "5a62a370-6f0c-4acc-adda-aaec12d87272",
   "metadata": {},
   "source": [
    " 'is not' = a is not b returns true if variable a and b points to different object"
   ]
  },
  {
   "cell_type": "markdown",
   "id": "067ff26b-3f38-4033-806f-d422b7207558",
   "metadata": {},
   "source": [
    "when we create variable it is stored in memory and memory had memory address  so this memory address will identify the address is same  then variable belog to same address"
   ]
  },
  {
   "cell_type": "code",
   "execution_count": 23,
   "id": "c3dcfb77-819c-49c9-b3fc-4b2d9ac6e60c",
   "metadata": {},
   "outputs": [],
   "source": [
    "lst_a = [1,2,3,4]"
   ]
  },
  {
   "cell_type": "code",
   "execution_count": 24,
   "id": "b762e023-a089-4a7d-8335-2a01b712485a",
   "metadata": {},
   "outputs": [],
   "source": [
    "lst_b = [1,2,3,4]"
   ]
  },
  {
   "cell_type": "code",
   "execution_count": 25,
   "id": "70f195cb-9b4d-457b-8668-2ec1a3bbf372",
   "metadata": {},
   "outputs": [
    {
     "name": "stdout",
     "output_type": "stream",
     "text": [
      "140511265985536\n",
      "140511326232128\n"
     ]
    }
   ],
   "source": [
    "# check address\n",
    "print(id(lst_a))\n",
    "print(id(lst_b))"
   ]
  },
  {
   "cell_type": "code",
   "execution_count": 26,
   "id": "e9c4af87-0dda-444e-a43c-d484ee3b2c7d",
   "metadata": {},
   "outputs": [
    {
     "data": {
      "text/plain": [
       "False"
      ]
     },
     "execution_count": 26,
     "metadata": {},
     "output_type": "execute_result"
    }
   ],
   "source": [
    "# the address is not same\n",
    "lst_a is lst_b"
   ]
  },
  {
   "cell_type": "code",
   "execution_count": null,
   "id": "5f9f74be-3f96-4621-8aba-bc5f3471bf12",
   "metadata": {},
   "outputs": [],
   "source": []
  }
 ],
 "metadata": {
  "kernelspec": {
   "display_name": "Python 3 (ipykernel)",
   "language": "python",
   "name": "python3"
  },
  "language_info": {
   "codemirror_mode": {
    "name": "ipython",
    "version": 3
   },
   "file_extension": ".py",
   "mimetype": "text/x-python",
   "name": "python",
   "nbconvert_exporter": "python",
   "pygments_lexer": "ipython3",
   "version": "3.10.8"
  }
 },
 "nbformat": 4,
 "nbformat_minor": 5
}
