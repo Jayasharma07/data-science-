{
 "cells": [
  {
   "cell_type": "markdown",
   "id": "323f1ade-abe3-4235-bc83-e6aa013eae31",
   "metadata": {},
   "source": [
    "# hello"
   ]
  },
  {
   "cell_type": "markdown",
   "id": "64e46a8c-8a2d-4b95-aaed-ce55fb67eed6",
   "metadata": {},
   "source": [
    "## hello"
   ]
  },
  {
   "cell_type": "code",
   "execution_count": 2,
   "id": "594a7c6d-be91-4308-a5b9-98c6628f98b6",
   "metadata": {},
   "outputs": [],
   "source": [
    "# int  \n",
    "a = 34"
   ]
  },
  {
   "cell_type": "code",
   "execution_count": 3,
   "id": "50844c3d-1952-4d97-89d9-e053a5c3c838",
   "metadata": {},
   "outputs": [
    {
     "data": {
      "text/plain": [
       "34"
      ]
     },
     "execution_count": 3,
     "metadata": {},
     "output_type": "execute_result"
    }
   ],
   "source": [
    "a"
   ]
  },
  {
   "cell_type": "code",
   "execution_count": 4,
   "id": "c17db5c8-9e3a-475a-845e-09eeb098292f",
   "metadata": {},
   "outputs": [
    {
     "data": {
      "text/plain": [
       "3.5"
      ]
     },
     "execution_count": 4,
     "metadata": {},
     "output_type": "execute_result"
    }
   ],
   "source": [
    "# float\n",
    "a=3.5\n",
    "a"
   ]
  },
  {
   "cell_type": "code",
   "execution_count": 5,
   "id": "0c74ff31-ff74-4082-9b0c-7afade11145f",
   "metadata": {},
   "outputs": [],
   "source": [
    "# str \n",
    "name= ' jaya'"
   ]
  },
  {
   "cell_type": "code",
   "execution_count": 6,
   "id": "10e06238-ea89-45ee-8d9e-06972fe6be6d",
   "metadata": {},
   "outputs": [
    {
     "data": {
      "text/plain": [
       "' jaya'"
      ]
     },
     "execution_count": 6,
     "metadata": {},
     "output_type": "execute_result"
    }
   ],
   "source": [
    "name"
   ]
  },
  {
   "cell_type": "code",
   "execution_count": 7,
   "id": "49769c99-861c-4e2e-9427-b6ff47dcab4b",
   "metadata": {},
   "outputs": [
    {
     "name": "stdout",
     "output_type": "stream",
     "text": [
      "jaya\n"
     ]
    }
   ],
   "source": [
    "print('jaya')"
   ]
  },
  {
   "cell_type": "code",
   "execution_count": 9,
   "id": "49d60f87-a08d-4ed1-a0c8-fb3421b0f5bc",
   "metadata": {},
   "outputs": [
    {
     "data": {
      "text/plain": [
       "True"
      ]
     },
     "execution_count": 9,
     "metadata": {},
     "output_type": "execute_result"
    }
   ],
   "source": [
    "# bool\n",
    "True"
   ]
  },
  {
   "cell_type": "code",
   "execution_count": 10,
   "id": "3fa5ff15-edce-4282-a4d1-4bed3e131cc8",
   "metadata": {},
   "outputs": [
    {
     "data": {
      "text/plain": [
       "False"
      ]
     },
     "execution_count": 10,
     "metadata": {},
     "output_type": "execute_result"
    }
   ],
   "source": [
    "False"
   ]
  },
  {
   "cell_type": "code",
   "execution_count": 11,
   "id": "ee3ad50c-4aaa-40a9-9d91-53ea438f66b9",
   "metadata": {},
   "outputs": [
    {
     "data": {
      "text/plain": [
       "False"
      ]
     },
     "execution_count": 11,
     "metadata": {},
     "output_type": "execute_result"
    }
   ],
   "source": [
    "True and False"
   ]
  },
  {
   "cell_type": "code",
   "execution_count": 12,
   "id": "c561ab1e-cb43-43c0-9f60-a811cf3119b5",
   "metadata": {},
   "outputs": [
    {
     "data": {
      "text/plain": [
       "True"
      ]
     },
     "execution_count": 12,
     "metadata": {},
     "output_type": "execute_result"
    }
   ],
   "source": [
    "True or False"
   ]
  },
  {
   "cell_type": "code",
   "execution_count": 19,
   "id": "3b4dad63-3d22-4765-8c54-fb7cec746b64",
   "metadata": {},
   "outputs": [
    {
     "data": {
      "text/plain": [
       "False"
      ]
     },
     "execution_count": 19,
     "metadata": {},
     "output_type": "execute_result"
    }
   ],
   "source": [
    "not True"
   ]
  },
  {
   "cell_type": "code",
   "execution_count": 20,
   "id": "67de3193-b02e-4590-8ac1-27766c58631c",
   "metadata": {},
   "outputs": [
    {
     "data": {
      "text/plain": [
       "True"
      ]
     },
     "execution_count": 20,
     "metadata": {},
     "output_type": "execute_result"
    }
   ],
   "source": [
    "not False"
   ]
  },
  {
   "cell_type": "code",
   "execution_count": 21,
   "id": "93c81509-6aa2-49ed-a682-97794bc6e5ea",
   "metadata": {},
   "outputs": [
    {
     "data": {
      "text/plain": [
       "False"
      ]
     },
     "execution_count": 21,
     "metadata": {},
     "output_type": "execute_result"
    }
   ],
   "source": [
    "#typecasting\n",
    "bool(0)"
   ]
  },
  {
   "cell_type": "code",
   "execution_count": 22,
   "id": "144d9be8-8ff9-435d-9416-fb8ae1bc9954",
   "metadata": {},
   "outputs": [
    {
     "data": {
      "text/plain": [
       "True"
      ]
     },
     "execution_count": 22,
     "metadata": {},
     "output_type": "execute_result"
    }
   ],
   "source": [
    "bool(1)"
   ]
  },
  {
   "cell_type": "code",
   "execution_count": 26,
   "id": "cc1d4a03-9c9a-4878-892b-42974c1fa6be",
   "metadata": {},
   "outputs": [
    {
     "name": "stdout",
     "output_type": "stream",
     "text": [
      "True\n"
     ]
    }
   ],
   "source": [
    "a =1\n",
    "if bool(a)==True:\n",
    "    print('True')"
   ]
  },
  {
   "cell_type": "code",
   "execution_count": 24,
   "id": "a0334a0d-319b-46c7-81ec-4402d85e70d4",
   "metadata": {},
   "outputs": [
    {
     "data": {
      "text/plain": [
       "bool"
      ]
     },
     "execution_count": 24,
     "metadata": {},
     "output_type": "execute_result"
    }
   ],
   "source": [
    "type(True)"
   ]
  },
  {
   "cell_type": "code",
   "execution_count": 23,
   "id": "569e8c7d-f110-4020-ab05-980e701c47f2",
   "metadata": {},
   "outputs": [
    {
     "name": "stdout",
     "output_type": "stream",
     "text": [
      "my name is jaya \n",
      "i am a student of data science masters 2.0\n"
     ]
    }
   ],
   "source": [
    "print ('my name is jaya \\ni am a student of data science masters 2.0')"
   ]
  },
  {
   "cell_type": "code",
   "execution_count": 17,
   "id": "adaa29bd-8ca4-4f47-9e78-58e61ece3c2c",
   "metadata": {},
   "outputs": [
    {
     "data": {
      "text/plain": [
       "4"
      ]
     },
     "execution_count": 17,
     "metadata": {},
     "output_type": "execute_result"
    }
   ],
   "source": [
    "1+3"
   ]
  },
  {
   "cell_type": "code",
   "execution_count": 18,
   "id": "262670f3-9f69-4372-a346-93e5b37fc61d",
   "metadata": {},
   "outputs": [
    {
     "name": "stdout",
     "output_type": "stream",
     "text": [
      "4\n"
     ]
    }
   ],
   "source": [
    "print(1+3)"
   ]
  },
  {
   "cell_type": "markdown",
   "id": "38c681cf-a4bd-429a-acf5-442a4a810639",
   "metadata": {},
   "source": [
    "# dynamic typing"
   ]
  },
  {
   "cell_type": "code",
   "execution_count": 27,
   "id": "c9f22446-43de-4cfa-911a-b48de0a279bb",
   "metadata": {},
   "outputs": [],
   "source": [
    "a=12\n",
    "str1='krishna'\n",
    "a='var'"
   ]
  },
  {
   "cell_type": "code",
   "execution_count": 29,
   "id": "7d7df1ac-dcdb-45ec-9e2b-196093408f7d",
   "metadata": {},
   "outputs": [
    {
     "name": "stdout",
     "output_type": "stream",
     "text": [
      "<class 'str'>\n"
     ]
    }
   ],
   "source": [
    "print(type(a))"
   ]
  },
  {
   "cell_type": "code",
   "execution_count": 30,
   "id": "663f1235-a56e-4cbf-bd70-fd063a3d8a4a",
   "metadata": {},
   "outputs": [
    {
     "data": {
      "text/plain": [
       "1"
      ]
     },
     "execution_count": 30,
     "metadata": {},
     "output_type": "execute_result"
    }
   ],
   "source": [
    "int(1.54)"
   ]
  },
  {
   "cell_type": "code",
   "execution_count": 31,
   "id": "9adc8828-302f-4a1b-924e-bd222ec416cc",
   "metadata": {},
   "outputs": [],
   "source": [
    "#concatination between different types"
   ]
  },
  {
   "cell_type": "code",
   "execution_count": 34,
   "id": "fe6ea183-583e-4481-9eec-d0ad07d75ee5",
   "metadata": {},
   "outputs": [
    {
     "data": {
      "text/plain": [
       "2"
      ]
     },
     "execution_count": 34,
     "metadata": {},
     "output_type": "execute_result"
    }
   ],
   "source": [
    "int('1')+int('1')"
   ]
  },
  {
   "cell_type": "code",
   "execution_count": 35,
   "id": "149d8138-5e80-422b-a640-79b350f81851",
   "metadata": {},
   "outputs": [
    {
     "data": {
      "text/plain": [
       "'11111111111111111111111'"
      ]
     },
     "execution_count": 35,
     "metadata": {},
     "output_type": "execute_result"
    }
   ],
   "source": [
    "'1'*23"
   ]
  },
  {
   "cell_type": "code",
   "execution_count": 37,
   "id": "fb614884-1394-4170-b98a-ba44ad80d89b",
   "metadata": {},
   "outputs": [
    {
     "data": {
      "text/plain": [
       "' hare krishna  hare krishna  hare krishna  hare krishna  hare krishna  hare krishna  hare krishna '"
      ]
     },
     "execution_count": 37,
     "metadata": {},
     "output_type": "execute_result"
    }
   ],
   "source": [
    "' hare krishna '*7"
   ]
  },
  {
   "cell_type": "code",
   "execution_count": null,
   "id": "87d7aeef-e66f-4a46-8c95-21c32a12cdfe",
   "metadata": {},
   "outputs": [],
   "source": []
  },
  {
   "cell_type": "code",
   "execution_count": null,
   "id": "d2321fd3-c9e5-4f86-adbd-0ec0dcc6f157",
   "metadata": {},
   "outputs": [],
   "source": []
  }
 ],
 "metadata": {
  "kernelspec": {
   "display_name": "Python 3 (ipykernel)",
   "language": "python",
   "name": "python3"
  },
  "language_info": {
   "codemirror_mode": {
    "name": "ipython",
    "version": 3
   },
   "file_extension": ".py",
   "mimetype": "text/x-python",
   "name": "python",
   "nbconvert_exporter": "python",
   "pygments_lexer": "ipython3",
   "version": "3.10.8"
  }
 },
 "nbformat": 4,
 "nbformat_minor": 5
}
